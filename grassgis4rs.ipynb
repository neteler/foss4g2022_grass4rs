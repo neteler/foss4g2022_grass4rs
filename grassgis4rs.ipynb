{
 "cells": [
  {
   "cell_type": "markdown",
   "metadata": {},
   "source": [
    "Final paper: Course on Digital Satellite Image Processing\n",
    "\n",
    "*Author:* Veronica Andreo\n",
    "\n",
    "*Date:* 2022-06-08-08\n",
    "\n",
    "This notebook will demonstrate the use of GRASS GIS 8.2+ in combination with Python within a Jupyter Notebook environment. We will use GRASS modules and python libraries that are part of the distribution that facilitate scripting (`grass.script`) and connecting and interacting with Jupyter Notebooks (`grass.jupyter`). \n",
    "\n",
    "In order to run this notebook, the development version of GRASS GIS is required, as well as all its dependencies and the `sentinelsat` library. \n",
    "\n",
    "The workflow that will be demonstrated on this notebook ranges from searching satellite data to classifying it using machine learning. "
   ]
  },
  {
   "cell_type": "markdown",
   "metadata": {},
   "source": [
    "## GRASS GIS basics\n",
    "\n",
    "\n",
    "### Open GRASS for the first time\n",
    "\n",
    "As of version 8 GRASS has modified its startup to make it more user friendly\n",
    "\n",
    "![First time launching GRASS 8](https://grass.osgeo.org/grass-stable/manuals/grass_start.png)\n",
    "\n",
    "From the *Data* catalog tab you can manage several actions and if you do not yet have imported data in the GRASS database, the software creates the directory structure automatically\n",
    "\n",
    "\n",
    "### Database\n",
    "\n",
    "- **GRASS database** (directory with projects): When running GRASS GIS for the first time, a folder named \"grassdata\" is automatically created. Depending on the operating system, it can be found in `$HOME` (*nix) or `My Documents` (MS Windows).\n",
    "- **Location** (a project): A \"location\" is defined by its coordinate reference system (CRS). The location that is automatically created is in WGS84 (EPSG:4326). If you have data in another CRS, you should ideally create a new location\n",
    "- **Mapset** (a subproject): Each location can have many \"mapsets\" to manage different aspects of a project or sub-regions of a project. When creating a new Location, GRASS GIS automatically creates a special Mapset called *PERMANENT* where the central project data (e.g., base maps, road network, dem, etc) can be stored. \n",
    "    \n",
    "![GRASS GIS database](https://grass.osgeo.org/grass-stable/manuals/grass_database.png)\n",
    "\n",
    "More info: https://grass.osgeo.org/grass-stable/manuals/grass_database.html\n",
    "\n",
    "\n",
    "### Computational region\n",
    "\n",
    "Another fundamental concept of GRASS GIS (and very useful when working with raster data) is that of the **computational region**. This refers to the boundary configuration of the analysis area and spatial resolution (raster). The **computational region** can be defined and modified with the command [g.region](https://grass.osgeo.org/grass-stable/manuals/g.region.html) to the extent of a vector map, a raster or manually to some area of interest. The output raster maps *(output)* will have an extent and spatial resolution equal to the computational region, while vector maps are always processed at their original extent\n",
    "\n",
    "![Computational region](https://gitlab.com/veroandreo/maie-procesamiento/-/raw/taller-grass-online/assets/img/region.png)\n",
    "\n",
    "For more details see the wiki on [Computational Region](https://grasswiki.osgeo.org/wiki/Computational_region)\n",
    "\n",
    "### Modules and extensions\n",
    "\n",
    "More than [500 modules](https://grass.osgeo.org/grass-stable/manuals/full_index.html) for the most varied tasks, but with a clear organization:\n",
    "\n",
    "| Prefix                                                               | Function class   | Type of command                     | Example\n",
    "|--------------------------------------------------------------------- |:---------------- |:----------------------------------- |:-------------------------------------------------------------------------------------------------------------------\n",
    "| [g.\\*](https://grass.osgeo.org/grass-stable/manuals/full_index.html#g)    | general          | general data management             | [g.rename](https://grass.osgeo.org/grass-stable/manuals/g.rename.html): renames map\n",
    "| [d.\\*](https://grass.osgeo.org/grass-stable/manuals/full_index.html#d)    | display          | graphical output                    | [d.rast](https://grass.osgeo.org/grass-stable/manuals/d.rast.html): display raster map \n",
    "| [r.\\*](https://grass.osgeo.org/grass-stable/manuals/full_index.html#r)    | raster           | raster processing                   | [r.mapcalc](https://grass.osgeo.org/grass-stable/manuals/r.mapcalc.html): map algebra\n",
    "| [v.\\*](https://grass.osgeo.org/grass-stable/manuals/full_index.html#r)    | vector           | vector processing                   | [v.clean](https://grass.osgeo.org/grass-stable/manuals/v.clean.html): topological cleaning\n",
    "| [i.\\*](https://grass.osgeo.org/grass-stable/manuals/full_index.html#i)    | imagery          | imagery processing                  | [i.pca](https://grass.osgeo.org/grass-stable/manuals/i.pca.html): Principal Components Analysis on imagery group\n",
    "| [r3.\\*](https://grass.osgeo.org/grass-stable/manuals/full_index.html#r3)  | voxel            | 3D raster processing                | [r3.stats](https://grass.osgeo.org/grass-stable/manuals/r3.stats.html): voxel statistics\n",
    "| [db.\\*](https://grass.osgeo.org/grass-stable/manuals/full_index.html#db)  | database         | database management                 | [db.select](https://grass.osgeo.org/grass-stable/manuals/db.select.html): select value(s) from table\n",
    "| [ps.\\*](https://grass.osgeo.org/grass-stable/manuals/full_index.html#ps)  | postscript       | PostScript map creation             | [ps.map](https://grass.osgeo.org/grass-stable/manuals/ps.map.html): PostScript map creation\n",
    "| [t.\\*](https://grass.osgeo.org/grass-stable/manuals/full_index.html#t)    | temporal         | space-time datasets                 | [t.rast.aggregate](https://grass.osgeo.org/grass-stable/manuals/t.rast.aggregate.html): raster time series aggregation\n",
    "\n",
    "Extensions or **add-ons** can be installed from the\n",
    "[central repository](https://grass.osgeo.org/grass-stable/manuals/addons/) \n",
    "or from *GitHub* (or other similar ones) using the command \n",
    "[g.extension](https://grass.osgeo.org/grass-stable/manuals/g.extension.html)\n",
    "\n",
    "```bash\n",
    " # install an extension from the GRASS GIS repository\n",
    " g.extension extension=r.hants\n",
    " \n",
    " # install an extension from another GitHub repository\n",
    " g.extension extension=r.in.sos \\\n",
    "   url=https://github.com/pesekon2/GRASS-GIS-SOS-tools/tree/master/sos/r.in.sos\n",
    "``` \n"
   ]
  },
  {
   "cell_type": "markdown",
   "metadata": {},
   "source": [
    "## GRASS & Python\n",
    "\n",
    "### grass.script\n",
    "\n",
    "The **grass.script** or GRASS GIS Python Scripting Library provides functions for calling GRASS modules within Python scripts as threads. The most commonly used functions include:\n",
    "\n",
    "- `run_command`: used when the output of the modules is a raster or vector, no text type output is expected\n",
    "- `read_command`: used when the output of the modules is a text\n",
    "- `parse_command`: used with modules whose output can be converted to `key=value` pairs\n",
    "- `write_command`: used with modules that expect text input, either in the form of a file or from stdin\n",
    "\n",
    "It also provides several wrapper functions for frequently used modules:\n",
    "\n",
    "- To get info from a raster, script.raster.raster_info() is used: `gs.raster_info('dsm')`\n",
    "- To get info of a vector, script.vector.vector_info() is used: `gs.vector_info('roads')`\n",
    "- To list the raster in a location, script.core.list_grouped() is used: `gs.list_grouped(type=['raster'])`\n",
    "- To obtain the computational region, script.core.region() is used: `gs.region()`\n",
    "\n",
    "More info: https://grass.osgeo.org/grass-stable/manuals/libpython/script_intro.html\n",
    "### grass.jupyter\n",
    "### grass.jupyter\n",
    "\n",
    "The **grass.jupyter** library improves the integration of GRASS and Jupyter, and provides different classes to visualize maps.\n",
    "\n",
    "- `init`: starts a GRASS session and sets up necessary environment variables\n",
    "- `Map`: 2D rendering\n",
    "- `Map3D`: 3D rendering\n",
    "- `InteractiveMap`: interactive visualization with folium\n",
    "- `TimeSeriesMap`: visualization for spatio-temporal data\n",
    "\n",
    "More info: https://grass.osgeo.org/grass-stable/manuals/libpython/grass.jupyter.html\n"
   ]
  },
  {
   "cell_type": "markdown",
   "metadata": {},
   "source": [
    "## 1. Paths and variables"
   ]
  },
  {
   "cell_type": "code",
   "execution_count": null,
   "metadata": {},
   "outputs": [],
   "source": [
    "# Paths\n",
    "s2_credentials=\"/home/veroandreo/gisdata/SENTINEL_SETTING.txt\"\n",
    "s2_data_folder=\"/home/veroandreo/gisdata/s2_data\"\n",
    "train_areas=\"training.gpkg\"\n",
    "grassdata=\"../grassdata\"\n",
    "\n",
    "# Variables\n",
    "location=\"posgar2007_4_cba\"\n",
    "mapset=\"PERMANENT\"\n",
    "start_date=\"2022-03-01\"\n",
    "end_date=\"2022-04-30\""
   ]
  },
  {
   "cell_type": "markdown",
   "metadata": {},
   "source": [
    "## 2. Imports and initialization of GRASS GIS"
   ]
  },
  {
   "cell_type": "code",
   "execution_count": null,
   "metadata": {},
   "outputs": [],
   "source": [
    "import os\n",
    "import subprocess\n",
    "import sys\n",
    "import pandas as pd\n",
    "\n",
    "# Ask GRASS GIS where its Python packages are to be able to start it from the notebook\n",
    "sys.path.append(\n",
    "    subprocess.check_output([\"grassdev\", \"--config\", \"python_path\"], text=True).strip()\n",
    ")\n",
    "\n",
    "# Import GRASS packages\n",
    "import grass.script as gs\n",
    "import grass.jupyter as gj\n",
    "\n",
    "# Start GRASS Session\n",
    "session = gj.init(grassdata, location, mapset)"
   ]
  },
  {
   "cell_type": "markdown",
   "metadata": {},
   "source": [
    "The location to be used for this notebook was prepared for the 2020 edition of MAIE's Digital Satellite Image Processing and GIS course. More details and download links can be found in the course [repo](https://gitlab.com/veroandreo/maie-procesamiento#datos).\n",
    "\n",
    "Before we start, we list the elements in the mapset `PERMANENT`. If we only want to see the raster or vector type elements, just change the `type` option in the following command. As you can see, since the output is of text type, we use `read_command()`."
   ]
  },
  {
   "cell_type": "code",
   "execution_count": null,
   "metadata": {},
   "outputs": [],
   "source": [
    "# List all elements in the PERMANENT mapset\n",
    "print(gs.read_command(\"g.list\", type=\"all\", mapset=\".\"))"
   ]
  },
  {
   "cell_type": "markdown",
   "metadata": {},
   "source": [
    "Next, we create a new mapset or project, where we will work with this notebook and import Sentinel-2 data."
   ]
  },
  {
   "cell_type": "code",
   "execution_count": null,
   "metadata": {},
   "outputs": [],
   "source": [
    "# Create a new mapset\n",
    "gs.run_command(\"g.mapset\", mapset=\"sentinel2\", flags=\"c\")"
   ]
  },
  {
   "cell_type": "code",
   "execution_count": null,
   "metadata": {},
   "outputs": [],
   "source": [
    "# Print accessible mapsets within the location\n",
    "print(gs.read_command(\"g.mapsets\", flags=\"p\"))"
   ]
  },
  {
   "cell_type": "markdown",
   "metadata": {},
   "source": [
    "To proceed to search for sentinel images, we are going to use a map of urban areas that we have in the PERMANENT mapset. Since we are interested in the city of Cordoba, we use the function v.extract to create a new polygon corresponding to the municipality of Cordoba. Note that in this case we use `run_command()`."
   ]
  },
  {
   "cell_type": "code",
   "execution_count": null,
   "metadata": {},
   "outputs": [],
   "source": [
    "# Extract Cordoba urban area from `radios_urbanos`\n",
    "gs.run_command(\"v.extract\", input=\"radios_urbanos\", \n",
    "               where=\"nombre == 'CORDOBA'\", \n",
    "               output=\"radio_urbano_cba\",\n",
    "               overwrite=True)"
   ]
  },
  {
   "cell_type": "markdown",
   "metadata": {},
   "source": [
    "We set the computational region to the boundaries of that vector. This will be the bounding box to be used for the sentinel image search."
   ]
  },
  {
   "cell_type": "code",
   "execution_count": null,
   "metadata": {},
   "outputs": [],
   "source": [
    "# Set the computational region to the extent of Cordoba urban area\n",
    "region = gs.parse_command(\"g.region\", vector=\"radio_urbano_cba\", res=30, flags=\"g\")\n",
    "region.keys()"
   ]
  },
  {
   "cell_type": "markdown",
   "metadata": {},
   "source": [
    "We now use the new `grass.jupyter` functions to display the newly obtained vector over the OpenStreetMap basemap."
   ]
  },
  {
   "cell_type": "code",
   "execution_count": null,
   "metadata": {
    "scrolled": true
   },
   "outputs": [],
   "source": [
    "# Display newly created vector\n",
    "cba_map = gj.InteractiveMap(width = 400, use_region=True, tiles=\"OpenStreetMap\")\n",
    "# cba_map.add_raster(\"elevation\", opacity=0.5)\n",
    "cba_map.add_vector(\"radio_urbano_cba\")\n",
    "cba_map.add_layer_control(position = \"bottomright\")\n",
    "cba_map.show()"
   ]
  },
  {
   "cell_type": "markdown",
   "metadata": {},
   "source": [
    "By way of illustration, we also show the 3D elevation map where the colors represent the land uses."
   ]
  },
  {
   "cell_type": "code",
   "execution_count": null,
   "metadata": {},
   "outputs": [],
   "source": [
    "# Display a 3d map\n",
    "cba_3dmap = gj.Map3D(width=600, use_region=True, mode=\"fine\")\n",
    "cba_3dmap.render(elevation_map=\"elevation\", color_map=\"landcover_2018\", perspective=12)\n",
    "cba_3dmap.show()"
   ]
  },
  {
   "cell_type": "markdown",
   "metadata": {},
   "source": [
    "### Sentinel 2 data search and download\n",
    "\n",
    "We installed the `i.sentinel` toolbox which consists of several modules that facilitate searching, filtering, downloading, importing and pre-processing Sentinel data, especially Sentinel 2, from a GRASS GIS session. See [i.sentinel](https://grass.osgeo.org/grass-stable/manuals/addons/i.sentinel.html) and the links to each module for more details. "
   ]
  },
  {
   "cell_type": "code",
   "execution_count": null,
   "metadata": {},
   "outputs": [],
   "source": [
    "# install extension\n",
    "gs.run_command(\"g.extension\", extension=\"i.sentinel\")"
   ]
  },
  {
   "cell_type": "markdown",
   "metadata": {},
   "source": [
    "We use the `i.sentinel.download` module which internally uses the `sentinelsat` library to search and filter scenes containing the defined region. For this we need to be registered in the Copernicus hub and have our credentials in a text file. For more details about the function and its uses, visit the [manual](https://grass.osgeo.org/grass-stable/manuals/addons/i.sentinel.download.html)."
   ]
  },
  {
   "cell_type": "code",
   "execution_count": null,
   "metadata": {},
   "outputs": [],
   "source": [
    "list_prod = gs.read_command(\"i.sentinel.download\", settings=s2_credentials, \n",
    "                            start=start_date, end=end_date, \n",
    "                            producttype=\"S2MSI2A\", clouds=30, \n",
    "                            area_relation=\"Contains\", \n",
    "                            footprints=\"s2_footprints\", \n",
    "                            flags=\"l\")"
   ]
  },
  {
   "cell_type": "code",
   "execution_count": null,
   "metadata": {},
   "outputs": [],
   "source": [
    "list_prod"
   ]
  },
  {
   "cell_type": "markdown",
   "metadata": {},
   "source": [
    "We improved the previous output to make it easier to read and converted it into a data frame."
   ]
  },
  {
   "cell_type": "code",
   "execution_count": null,
   "metadata": {},
   "outputs": [],
   "source": [
    "lista = []\n",
    "for line in list_prod.split(\"\\n\"):\n",
    "    img = line.split(\" \")\n",
    "    if len(img) == 8:\n",
    "        img.pop(3) # remove annoying empty space bc of padding for cloud percentage\n",
    "    lista.append(img)\n",
    "\n",
    "lista.pop(len(lista)-1) # remove last empty line"
   ]
  },
  {
   "cell_type": "code",
   "execution_count": null,
   "metadata": {},
   "outputs": [],
   "source": [
    "# turn interim list into nice table\n",
    "df_lista = pd.DataFrame(lista, columns=['uuid', 'scene', 'date', 'cloud', 'product', 'size', 'unit'])\n",
    "df_lista"
   ]
  },
  {
   "cell_type": "code",
   "execution_count": null,
   "metadata": {},
   "outputs": [],
   "source": [
    "# diplay footprints (you may want to zoom out a bit)\n",
    "cba_map = gj.InteractiveMap(width = 400, use_region=True, tiles=\"OpenStreetMap\")\n",
    "cba_map.add_vector(\"s2_footprints\")\n",
    "cba_map.add_layer_control(position = \"bottomright\")\n",
    "cba_map.show()"
   ]
  },
  {
   "cell_type": "markdown",
   "metadata": {},
   "source": [
    "The next step is to download the scene or scenes of interest. For that we use the module without the `l` flag for list."
   ]
  },
  {
   "cell_type": "code",
   "execution_count": null,
   "metadata": {},
   "outputs": [],
   "source": [
    "# download of the selected scene (2022-03-25, T14:10:51Z)\n",
    "gs.run_command(\"i.sentinel.download\", settings=s2_credentials, \n",
    "               uuid=\"84f3695e-4ed8-4345-b2af-ba6d6d81af2d\", \n",
    "               output=s2_data_folder)"
   ]
  },
  {
   "cell_type": "code",
   "execution_count": null,
   "metadata": {},
   "outputs": [],
   "source": [
    "# import only bands relevant for RGB, NDVI and NDWI\n",
    "gs.run_command(\"i.sentinel.import\", \n",
    "               input=s2_data_folder, \n",
    "               pattern_file=\"*20220325T141051*\",\n",
    "               pattern=\"B(02_1|03_1|04_1|08_1|8A_2|11_2|12_2)0m\", \n",
    "               extent=\"region\", # subset import to region extent\n",
    "               flags=\"rcsj\") # reproject, clouds, shadow, json metadata"
   ]
  },
  {
   "cell_type": "code",
   "execution_count": null,
   "metadata": {},
   "outputs": [],
   "source": [
    "# list raster maps\n",
    "gs.list_grouped(type=\"raster\")['sentinel2']"
   ]
  },
  {
   "cell_type": "code",
   "execution_count": null,
   "metadata": {},
   "outputs": [],
   "source": [
    "# check metadata of some imported bands\n",
    "gs.raster_info(map=\"T20JLL_20220325T141051_B03_10m\")"
   ]
  },
  {
   "cell_type": "markdown",
   "metadata": {},
   "source": [
    "A fairly new concept within GRASS is semantic labels. These are especially relevant for satellite imagery as they allow us to identify to which sensor and band a given raster corresponds. These labels are particularly relevant when working with satellite image collections and also when classifying different scenes. We will see it later, but by generating a spectral signature for a given set of bands, it can be re-used to classify another scene as long as the semantic labels are the same."
   ]
  },
  {
   "cell_type": "code",
   "execution_count": null,
   "metadata": {},
   "outputs": [],
   "source": [
    "# print semantic labels\n",
    "for i in gs.list_grouped(type=\"raster\")['sentinel2']:\n",
    "    label = gs.raster_info(map=i)['semantic_label']\n",
    "    print('Map: {}, Semantic label: {}'.format(i,label))"
   ]
  },
  {
   "cell_type": "code",
   "execution_count": null,
   "metadata": {},
   "outputs": [],
   "source": [
    "# Create Map instance\n",
    "b3_map = gj.Map(width=300)\n",
    "# Add a raster, vector and legend to the map\n",
    "b3_map.d_rast(map=\"T20JLL_20220325T141051_B03_10m\")\n",
    "# Display map\n",
    "b3_map.show()"
   ]
  },
  {
   "cell_type": "code",
   "execution_count": null,
   "metadata": {},
   "outputs": [],
   "source": [
    "# apply grey color to RGB bands\n",
    "gs.run_command(\"r.colors\", \n",
    "               map=\"T20JLL_20220325T141051_B04_10m,T20JLL_20220325T141051_B03_10m,T20JLL_20220325T141051_B02_10m\",\n",
    "               color=\"grey\")"
   ]
  },
  {
   "cell_type": "code",
   "execution_count": null,
   "metadata": {},
   "outputs": [],
   "source": [
    "# perform color auto-balancing for RGB bands\n",
    "gs.run_command(\"i.colors.enhance\", \n",
    "               red=\"T20JLL_20220325T141051_B04_10m\",\n",
    "               green=\"T20JLL_20220325T141051_B03_10m\", \n",
    "               blue=\"T20JLL_20220325T141051_B02_10m\",\n",
    "               strength=90)"
   ]
  },
  {
   "cell_type": "code",
   "execution_count": null,
   "metadata": {},
   "outputs": [],
   "source": [
    "# display the enhanced RGB combination\n",
    "cba_rgb = gj.Map(use_region=True)\n",
    "cba_rgb.d_rgb(red=\"T20JLL_20220325T141051_B04_10m\", \n",
    "              green=\"T20JLL_20220325T141051_B03_10m\", \n",
    "              blue=\"T20JLL_20220325T141051_B02_10m\")\n",
    "cba_rgb.show()"
   ]
  },
  {
   "cell_type": "markdown",
   "metadata": {},
   "source": [
    "### Identification and masking of clouds\n",
    "\n",
    "Since we will be starting to generate new raster maps, it is essential that we set the computational region to the limits and resolution of one of our bands. We may also be interested in a smaller area for initial testing. This is extremely easy and avoids having to cut raster to raster physically."
   ]
  },
  {
   "cell_type": "code",
   "execution_count": null,
   "metadata": {},
   "outputs": [],
   "source": [
    "gs.parse_command(\"g.region\", raster=\"T20JLL_20220325T141051_B03_10m\", flags=\"g\")"
   ]
  },
  {
   "cell_type": "markdown",
   "metadata": {},
   "source": [
    "We use the `i.sentinel.mask` module that takes the metadata recorded when importing bands."
   ]
  },
  {
   "cell_type": "code",
   "execution_count": null,
   "metadata": {},
   "outputs": [],
   "source": [
    "# identify and mask clouds and clouds shadows: i.sentinel.mask\n",
    "gs.run_command(\"i.sentinel.mask\",\n",
    "               blue=\"T20JLL_20220325T141051_B02_10m\",\n",
    "               green=\"T20JLL_20220325T141051_B03_10m\",\n",
    "               red=\"T20JLL_20220325T141051_B04_10m\", \n",
    "               nir=\"T20JLL_20220325T141051_B08_10m\",\n",
    "               nir8a=\"T20JLL_20220325T141051_B8A_20m\",\n",
    "               swir11=\"T20JLL_20220325T141051_B11_20m\",\n",
    "               swir12=\"T20JLL_20220325T141051_B12_20m\",\n",
    "               cloud_mask=\"cloud\", \n",
    "               shadow_mask=\"shadow\",\n",
    "               scale_fac=10000, \n",
    "               flags=\"s\", overwrite=True)"
   ]
  },
  {
   "cell_type": "code",
   "execution_count": null,
   "metadata": {},
   "outputs": [],
   "source": [
    "# list vector maps in the mapset\n",
    "gs.list_grouped(type=\"vector\")['sentinel2']"
   ]
  },
  {
   "cell_type": "code",
   "execution_count": null,
   "metadata": {
    "scrolled": false
   },
   "outputs": [],
   "source": [
    "# display output\n",
    "cba_rgb.d_vect(map=\"shadow\", color=\"red\", fill_color=\"red\")\n",
    "cba_rgb.d_vect(map=\"cloud\", color=\"blue\", fill_color=\"blue\")\n",
    "cba_rgb.show()"
   ]
  },
  {
   "cell_type": "markdown",
   "metadata": {},
   "source": [
    "We inspect the cloud map downloaded with the data and set the same color palette for the purpose of comparing both products: the cloud and shadow mask obtained with i.sentinel.mask and the one provided by ESA."
   ]
  },
  {
   "cell_type": "code",
   "execution_count": null,
   "metadata": {},
   "outputs": [],
   "source": [
    "!v.db.select T20JLL_20220325T141051_MSK_CLOUDS | head"
   ]
  },
  {
   "cell_type": "code",
   "execution_count": null,
   "metadata": {},
   "outputs": [],
   "source": [
    "s2_clouds = \"T20JLL_20220325T141051_MSK_CLOUDS\"\n",
    "colours = [\"1 0:0:255\", \"2 255:0:0\"]\n",
    "colourise = gs.feed_command(\"v.colors\", map=s2_clouds, use=\"attr\", column=\"value\", rules=\"-\", quiet=True)\n",
    "colourise.stdin.write(\"\\n\".join(colours).encode())\n",
    "colourise.stdin.close()"
   ]
  },
  {
   "cell_type": "code",
   "execution_count": null,
   "metadata": {},
   "outputs": [],
   "source": [
    "cba_rgb = gj.Map(use_region=True)\n",
    "cba_rgb.d_rgb(red=\"T20JLL_20220325T141051_B04_10m\", \n",
    "              green=\"T20JLL_20220325T141051_B03_10m\", \n",
    "              blue=\"T20JLL_20220325T141051_B02_10m\")\n",
    "cba_rgb.d_vect(map=\"T20JLL_20220325T141051_MSK_CLOUDS\")\n",
    "cba_rgb.show()"
   ]
  },
  {
   "cell_type": "markdown",
   "metadata": {},
   "source": [
    "### Spectral indices of vegetation and water\n",
    "\n",
    "Before proceeding to calculate the indices, let's mask the areas identified as clouds and shadows. To do this, we first paste the vectors into one vector and then apply it as an inverse mask. For more details on how the masks work in GRASS see [r.mask](https://grass.osgeo.org/grass-stable/manuals/r.mask.html)"
   ]
  },
  {
   "cell_type": "code",
   "execution_count": null,
   "metadata": {},
   "outputs": [],
   "source": [
    "# set clouds mask\n",
    "gs.run_command(\"v.patch\", input=\"cloud,shadow\", output=\"cloud_shadow_mask\")\n",
    "gs.run_command(\"r.mask\", vector=\"cloud_shadow_mask\", flags=\"i\")"
   ]
  },
  {
   "cell_type": "markdown",
   "metadata": {},
   "source": [
    "We then used i.vi and i.wi (addon) to estimate NDVI and NDWI. See [i.vi](https://grass.osgeo.org/grass-stable/manuals/i.vi.html) and [i.wi](https://grass.osgeo.org/grass-stable/manuals/addons/i.wi.html) for more details on the available indices."
   ]
  },
  {
   "cell_type": "code",
   "execution_count": null,
   "metadata": {},
   "outputs": [],
   "source": [
    "# estimate vegetation indices\n",
    "gs.run_command(\"i.vi\", \n",
    "               red=\"T20JLL_20220325T141051_B04_10m\", \n",
    "               nir=\"T20JLL_20220325T141051_B08_10m\", \n",
    "               output=\"T20JLL_20220325T141051_NDVI_10m\", \n",
    "               viname=\"ndvi\")\n",
    "\n",
    "# add semantic label\n",
    "gs.run_command(\"r.support\", map=\"T20JLL_20220325T141051_NDVI_10m\", semantic_label=\"S2_NDVI\")"
   ]
  },
  {
   "cell_type": "code",
   "execution_count": null,
   "metadata": {},
   "outputs": [],
   "source": [
    "ndvi_map = gj.InteractiveMap(width = 400, use_region=True, tiles=\"OpenStreetMap\")\n",
    "ndvi_map.add_raster(\"T20JLL_20220325T141051_NDVI_10m\", opacity=0.7)\n",
    "ndvi_map.add_layer_control(position = \"bottomright\")\n",
    "ndvi_map.show()"
   ]
  },
  {
   "cell_type": "code",
   "execution_count": null,
   "metadata": {},
   "outputs": [],
   "source": [
    "# install extension\n",
    "gs.run_command(\"g.extension\", extension=\"i.wi\")"
   ]
  },
  {
   "cell_type": "code",
   "execution_count": null,
   "metadata": {},
   "outputs": [],
   "source": [
    "# estimate water indices and set color palette\n",
    "gs.run_command(\"i.wi\", \n",
    "               green=\"T20JLL_20220325T141051_B04_10m\",\n",
    "               nir=\"T20JLL_20220325T141051_B08_10m\",\n",
    "               output=\"T20JLL_20220325T141051_NDWI_10m\",\n",
    "               winame=\"ndwi_mf\")\n",
    "\n",
    "# add semantic label\n",
    "gs.run_command(\"r.support\", map=\"T20JLL_20220325T141051_NDWI_10m\", semantic_label=\"S2_NDWI\")\n",
    "\n",
    "# set ndwi color table\n",
    "gs.run_command(\"r.colors\", map=\"T20JLL_20220325T141051_NDWI_10m\", color=\"ndwi\")"
   ]
  },
  {
   "cell_type": "code",
   "execution_count": null,
   "metadata": {},
   "outputs": [],
   "source": [
    "ndwi_map = gj.InteractiveMap(width = 400, use_region=True, tiles=\"OpenStreetMap\")\n",
    "ndwi_map.add_raster(\"T20JLL_20220325T141051_NDWI_10m\", opacity=0.7)\n",
    "ndwi_map.add_layer_control(position = \"bottomright\")\n",
    "ndwi_map.show()"
   ]
  },
  {
   "cell_type": "markdown",
   "metadata": {},
   "source": [
    "#### GRASS Maps as numpy arrays\n",
    "\n",
    "GRASS maps can be read as numpy arrays thanks to the array function of the grass.script library. This facilitates many operations with python libraries that require an array as input. In this case, we demonstrate its use with a histogram."
   ]
  },
  {
   "cell_type": "code",
   "execution_count": null,
   "metadata": {},
   "outputs": [],
   "source": [
    "#Read NDVI as numpy array\n",
    "import numpy as np\n",
    "import seaborn as sns\n",
    "import matplotlib.pyplot as plt\n",
    "from grass.script import array as garray\n",
    "\n",
    "ndvi = garray.array(mapname=\"T20JLL_20220325T141051_NDVI_10m\", null='nan')\n",
    "ndvi.shape\n"
   ]
  },
  {
   "cell_type": "code",
   "execution_count": null,
   "metadata": {},
   "outputs": [],
   "source": [
    "sns.set_style('darkgrid')\n",
    "sns.histplot(ndvi.ravel(), kde=False)"
   ]
  },
  {
   "cell_type": "markdown",
   "metadata": {},
   "source": [
    "### Segmentation and clustering of segments\n",
    "\n",
    "There are several modules to perform segmentation in GRASS GIS, the most known are [i.segment]() and [i.superpixels.slic](). We will demonstrate their use and then perform a KMeans clustering with the result of one of them."
   ]
  },
  {
   "cell_type": "code",
   "execution_count": null,
   "metadata": {},
   "outputs": [],
   "source": [
    "# list maps\n",
    "s2_maps = gs.list_grouped(type=\"raster\", pattern=\"*20220325T141051*\")['sentinel2']\n",
    "print(s2_maps)"
   ]
  },
  {
   "cell_type": "markdown",
   "metadata": {},
   "source": [
    "When you work with stack of rasters in GRASS, you create what's called a group, which is a stack, but based on metadata, so it doesn't take up more space. "
   ]
  },
  {
   "cell_type": "code",
   "execution_count": null,
   "metadata": {},
   "outputs": [],
   "source": [
    "# create group and subgroup with bands and indices\n",
    "gs.run_command(\"i.group\", group=\"s2\", subgroup=\"s2\", input=s2_maps)\n",
    "gs.parse_command(\"i.group\", group=\"s2\", flags=\"l\")"
   ]
  },
  {
   "cell_type": "markdown",
   "metadata": {},
   "source": [
    "#### Superpixels"
   ]
  },
  {
   "cell_type": "code",
   "execution_count": null,
   "metadata": {},
   "outputs": [],
   "source": [
    "# install extension\n",
    "gs.run_command(\"g.extension\", extension=\"i.superpixels.slic\")"
   ]
  },
  {
   "cell_type": "code",
   "execution_count": null,
   "metadata": {},
   "outputs": [],
   "source": [
    "# run i.superpixels.slic\n",
    "gs.run_command(\"i.superpixels.slic\", input=\"s2\", output=\"superpixels\", num_pixels=2000)\n",
    "\n",
    "# convert the resulting raster to vector\n",
    "gs.run_command(\"r.to.vect\", input=\"superpixels\", output=\"superpixels\", type=\"area\")"
   ]
  },
  {
   "cell_type": "markdown",
   "metadata": {},
   "source": [
    "#### Region growing"
   ]
  },
  {
   "cell_type": "code",
   "execution_count": null,
   "metadata": {},
   "outputs": [],
   "source": [
    "# run i.segment (region growing)\n",
    "gs.run_command(\"i.segment\", group=\"s2\", output=\"segments\", threshold=0.5, minsize=50, memory=500)\n",
    "\n",
    "# convert the resulting raster to vector\n",
    "gs.run_command(\"r.to.vect\", input=\"segments\", output=\"segments\", type=\"area\")"
   ]
  },
  {
   "cell_type": "markdown",
   "metadata": {},
   "source": [
    "We compare the number of segments obtained:"
   ]
  },
  {
   "cell_type": "code",
   "execution_count": null,
   "metadata": {},
   "outputs": [],
   "source": [
    "# compare number of segments\n",
    "n1=gs.vector_info(map=\"superpixels\")['areas']\n",
    "n2=gs.vector_info(map=\"segments\")['areas']\n",
    "\n",
    "print(\"Superpixels SLIC: {}; Region growing: {}\".format(n1,n2))"
   ]
  },
  {
   "cell_type": "code",
   "execution_count": null,
   "metadata": {},
   "outputs": [],
   "source": [
    "# diplay results\n",
    "seg_map = gj.InteractiveMap(width = 600, use_region=True, tiles=\"OpenStreetMap\")\n",
    "seg_map.add_raster(\"T20JLL_20220325T141051_NDVI_10m\", opacity=0.5)\n",
    "#seg_map.add_vector(\"superpixels\")\n",
    "seg_map.add_vector(\"segments\")\n",
    "seg_map.add_layer_control(position = \"bottomright\")\n",
    "seg_map.show()"
   ]
  },
  {
   "cell_type": "markdown",
   "metadata": {},
   "source": [
    "Now, let's extract statistics for the segments from the bands of the group \"s2\""
   ]
  },
  {
   "cell_type": "code",
   "execution_count": null,
   "metadata": {},
   "outputs": [],
   "source": [
    "# extract statistics from the segments, make graphs and a clustering\n",
    "gs.run_command(\"v.rast.stats\", map=\"segments\", raster=s2_maps, column_prefix=s2_maps, method=\"average\")"
   ]
  },
  {
   "cell_type": "code",
   "execution_count": null,
   "metadata": {},
   "outputs": [],
   "source": [
    "tabla_segs = pd.DataFrame.from_dict(gs.vector_db_select(map=\"segments\")['values'], \n",
    "                                       orient='index', \n",
    "                                       columns=gs.vector_db_select(map=\"segments\")['columns'])"
   ]
  },
  {
   "cell_type": "code",
   "execution_count": null,
   "metadata": {},
   "outputs": [],
   "source": [
    "tabla_segs.head()"
   ]
  },
  {
   "cell_type": "code",
   "execution_count": null,
   "metadata": {},
   "outputs": [],
   "source": [
    "# univar stats\n",
    "gs.parse_command(\"v.univar\", map=\"segments\", column=\"T20JLL_20220325T141051_NDVI_10m_average\", flags=\"g\")"
   ]
  },
  {
   "cell_type": "code",
   "execution_count": null,
   "metadata": {},
   "outputs": [],
   "source": [
    "# convert columns from type object to float\n",
    "for col in tabla_segs.columns[3:]:\n",
    "    tabla_segs[col] = tabla_segs[col].astype('float')"
   ]
  },
  {
   "cell_type": "code",
   "execution_count": null,
   "metadata": {},
   "outputs": [],
   "source": [
    "fig = plt.figure(figsize=(15,10))\n",
    "sns.boxplot(data=tabla_segs.iloc[:,3:10])\n",
    "plt.show()"
   ]
  },
  {
   "cell_type": "code",
   "execution_count": null,
   "metadata": {
    "scrolled": false
   },
   "outputs": [],
   "source": [
    "fig = plt.figure(figsize=(5,5))\n",
    "sns.violinplot(data=tabla_segs.iloc[:,10:12])\n",
    "plt.show()"
   ]
  },
  {
   "cell_type": "markdown",
   "metadata": {},
   "source": [
    "### Clustering"
   ]
  },
  {
   "cell_type": "code",
   "execution_count": null,
   "metadata": {},
   "outputs": [],
   "source": [
    "# convert dataframe to array\n",
    "segs_arr = tabla_segs.iloc[:,10:12].to_numpy()\n",
    "segs_arr"
   ]
  },
  {
   "cell_type": "code",
   "execution_count": null,
   "metadata": {},
   "outputs": [],
   "source": [
    "from sklearn.cluster import KMeans\n",
    "\n",
    "kmeans = KMeans(n_clusters=3, random_state=0)\n",
    "kmeans.fit(segs_arr)\n",
    "y_kmeans = kmeans.predict(segs_arr)"
   ]
  },
  {
   "cell_type": "code",
   "execution_count": null,
   "metadata": {},
   "outputs": [],
   "source": [
    "kmeans.labels_"
   ]
  },
  {
   "cell_type": "code",
   "execution_count": null,
   "metadata": {},
   "outputs": [],
   "source": [
    "kmeans.cluster_centers_"
   ]
  },
  {
   "cell_type": "code",
   "execution_count": null,
   "metadata": {},
   "outputs": [],
   "source": [
    "plt.scatter(segs_arr[:, 0], segs_arr[:, 1], c=y_kmeans, s=80, cmap='viridis')\n",
    "centers = kmeans.cluster_centers_\n",
    "plt.scatter(centers[:, 0], centers[:, 1], c='black', s=200, alpha=0.5);"
   ]
  },
  {
   "cell_type": "markdown",
   "metadata": {},
   "source": [
    "It could be said that there is not a good separation of groups according to NDVI and NDWI. This may be due to the segments themselves, their shape and size, as well as to the fact that more dimensions are needed to identify different groups; or indeed, that there are no such clearly distinguishable groups. "
   ]
  },
  {
   "cell_type": "code",
   "execution_count": null,
   "metadata": {},
   "outputs": [],
   "source": [
    "# how to attach the labels to the segments to show it spatially?"
   ]
  },
  {
   "cell_type": "markdown",
   "metadata": {},
   "source": [
    "### Supervised Cassification: Maximum Likelihood\n",
    "\n",
    "We will now demonstrate the workflow to perform a supervised maximum likelihood classification from digitized training polygons in GRASS."
   ]
  },
  {
   "cell_type": "code",
   "execution_count": null,
   "metadata": {},
   "outputs": [],
   "source": [
    "# import gpkg with training areas\n",
    "gs.run_command(\"v.import\", input=train_areas, output=\"training\")\n",
    "\n",
    "# use color column for classes\n",
    "gs.run_command(\"v.colors\", map=\"training\", rgb_column=\"color\", flags=\"c\")"
   ]
  },
  {
   "cell_type": "code",
   "execution_count": null,
   "metadata": {},
   "outputs": [],
   "source": [
    "cba_rgb_train = gj.Map(width=300, use_region=True)\n",
    "cba_rgb_train.d_rgb(red=\"T20JLL_20220325T141051_B04_10m\", \n",
    "              green=\"T20JLL_20220325T141051_B03_10m\", \n",
    "              blue=\"T20JLL_20220325T141051_B02_10m\")\n",
    "cba_rgb_train.d_vect(map=\"training\")\n",
    "cba_rgb_train.show()"
   ]
  },
  {
   "cell_type": "code",
   "execution_count": null,
   "metadata": {},
   "outputs": [],
   "source": [
    "# convert to raster\n",
    "gs.run_command(\"v.to.rast\", input=\"training\", output=\"training\", \n",
    "               use=\"attr\", attribute_column=\"cat_\", label_column=\"class\")"
   ]
  },
  {
   "cell_type": "code",
   "execution_count": null,
   "metadata": {},
   "outputs": [],
   "source": [
    "# obtain signature files\n",
    "gs.run_command(\"i.gensig\", trainingmap=\"training\", group=\"s2\", subgroup=\"s2\", signaturefile=\"sig_sentinel\")"
   ]
  },
  {
   "cell_type": "code",
   "execution_count": null,
   "metadata": {},
   "outputs": [],
   "source": [
    "# perform ML supervised classification\n",
    "gs.run_command(\"i.maxlik\", group=\"s2\", subgroup=\"s2\", signaturefile=\"sig_sentinel\", output=\"sentinel_maxlik\")"
   ]
  },
  {
   "cell_type": "code",
   "execution_count": null,
   "metadata": {},
   "outputs": [],
   "source": [
    "# label classes\n",
    "label_class = [\"1:vegetation\", \"2:urban\", \"3:bare soil\"]\n",
    "categorise = gs.feed_command(\"r.category\", map=\"sentinel_maxlik\", separator=\":\", rules=\"-\", quiet=True)\n",
    "categorise.stdin.write(\"\\n\".join(label_class).encode())\n",
    "categorise.stdin.close()"
   ]
  },
  {
   "cell_type": "code",
   "execution_count": null,
   "metadata": {},
   "outputs": [],
   "source": [
    "# display results\n",
    "cba_sup_class = gj.Map(width=500, use_region=True)\n",
    "cba_sup_class.d_rast(map=\"sentinel_maxlik\")\n",
    "cba_sup_class.d_legend(raster=\"sentinel_maxlik\", title=\"Class\", fontsize=10, at=(80, 93, 80, 90), flags=\"b\")\n",
    "cba_sup_class.d_barscale()\n",
    "cba_sup_class.show()"
   ]
  },
  {
   "cell_type": "code",
   "execution_count": null,
   "metadata": {},
   "outputs": [],
   "source": [
    "# percentage of each class\n",
    "gs.parse_command(\"r.report\", map=\"sentinel_maxlik\", units=\"p\", flags=\"h\")"
   ]
  },
  {
   "cell_type": "code",
   "execution_count": null,
   "metadata": {},
   "outputs": [],
   "source": [
    "# class statistics: NDVI\n",
    "class_stats = gs.read_command(\"r.univar\", map=\"T20JLL_20220325T141051_NDVI_10m\", zones=\"sentinel_maxlik\", flags=\"t\")\n",
    "class_stats_df = pd.DataFrame([line.split(\"|\") for line in class_stats.splitlines()])\n",
    "class_stats_df.columns = class_stats_df.iloc[0]\n"
   ]
  },
  {
   "cell_type": "code",
   "execution_count": null,
   "metadata": {},
   "outputs": [],
   "source": [
    "df2 = class_stats_df.loc[1:,['label', 'min', 'max', 'mean']]\n",
    "df2"
   ]
  },
  {
   "cell_type": "code",
   "execution_count": null,
   "metadata": {},
   "outputs": [],
   "source": [
    "# remove former mask to avoid getting no data in the new scene\n",
    "gs.run_command(\"r.mask\", flags=\"r\")"
   ]
  },
  {
   "cell_type": "markdown",
   "metadata": {},
   "source": [
    "Next, and to demonstrate the use of semantic labels, we will classify another sentinel scene with the same signature obtained earlier. For this, we follow the same steps detailed at the beginning of this notebook."
   ]
  },
  {
   "cell_type": "code",
   "execution_count": null,
   "metadata": {},
   "outputs": [],
   "source": [
    "list_2022 = gs.read_command(\"i.sentinel.download\", settings=s2_credentials, \n",
    "                            start=\"2022-02-01\", end=\"2022-04-30\", \n",
    "                            producttype=\"S2MSI2A\", clouds=10, \n",
    "                            area_relation=\"Contains\", \n",
    "                            flags=\"l\")\n",
    "\n",
    "lista2022 = []\n",
    "for line in list_2022.split(\"\\n\"):\n",
    "    img = line.split(\" \")\n",
    "    if len(img) == 8:\n",
    "        img.pop(3) # remove annoying empty space bc of padding for cloud percentage\n",
    "    lista2022.append(img)\n",
    "\n",
    "lista2022.pop(len(lista2022)-1) # remove last empty line\n",
    "pd.DataFrame(lista2022, columns=['uuid', 'scene', 'date', 'cloud', 'product', 'size', 'unit'])"
   ]
  },
  {
   "cell_type": "code",
   "execution_count": null,
   "metadata": {},
   "outputs": [],
   "source": [
    "# download of the selected scene\n",
    "gs.run_command(\"i.sentinel.download\", settings=s2_credentials, \n",
    "               uuid=\"f31d3b36-a131-44e8-b7b3-880b6c8a40c4\", \n",
    "               output=s2_data_folder, sleep=10)"
   ]
  },
  {
   "cell_type": "code",
   "execution_count": null,
   "metadata": {},
   "outputs": [],
   "source": [
    "gs.run_command(\"i.sentinel.import\", \n",
    "               input=s2_data_folder, \n",
    "               pattern_file=\"*20220328T141741*\",\n",
    "               pattern=\"B(02_1|03_1|04_1|08_1|8A_2|11_2|12_2)0m\", \n",
    "               extent=\"region\", # import only region extent\n",
    "               flags=\"rcsj\") # reproject, clouds, shadow, json metadata"
   ]
  },
  {
   "cell_type": "code",
   "execution_count": null,
   "metadata": {},
   "outputs": [],
   "source": [
    "# apply grey color to RGB bands\n",
    "gs.run_command(\"r.colors\", \n",
    "               map=\"T20JLL_20220328T141741_B04_10m,T20JLL_20220328T141741_B03_10m,T20JLL_20220328T141741_B02_10m\",\n",
    "               color=\"grey\")\n",
    "\n",
    "# perform color auto-balancing for RGB bands\n",
    "gs.run_command(\"i.colors.enhance\", \n",
    "               red=\"T20JLL_20220328T141741_B04_10m\",\n",
    "               green=\"T20JLL_20220328T141741_B03_10m\", \n",
    "               blue=\"T20JLL_20220328T141741_B02_10m\",\n",
    "               strength=90)\n",
    "\n",
    "# display the enhanced RGB combination\n",
    "cba_rgb = gj.Map(use_region=True)\n",
    "cba_rgb.d_rgb(red=\"T20JLL_20220328T141741_B04_10m\", \n",
    "              green=\"T20JLL_20220328T141741_B03_10m\", \n",
    "              blue=\"T20JLL_20220328T141741_B02_10m\")\n",
    "cba_rgb.d_barscale()\n",
    "cba_rgb.show()"
   ]
  },
  {
   "cell_type": "code",
   "execution_count": null,
   "metadata": {},
   "outputs": [],
   "source": [
    "# ndvi\n",
    "gs.run_command(\"i.vi\", \n",
    "               red=\"T20JLL_20220328T141741_B04_10m\", \n",
    "               nir=\"T20JLL_20220328T141741_B08_10m\", \n",
    "               output=\"T20JLL_20220328T141741_NDVI_10m\", \n",
    "               viname=\"ndvi\")\n",
    "\n",
    "# add semantic label\n",
    "gs.run_command(\"r.support\", map=\"T20JLL_20220328T141741_NDVI_10m\", semantic_label=\"S2_NDVI\")\n",
    "\n",
    "# ndwi\n",
    "gs.run_command(\"i.wi\", \n",
    "               green=\"T20JLL_20220328T141741_B03_10m\",\n",
    "               nir=\"T20JLL_20220328T141741_B08_10m\",\n",
    "               output=\"T20JLL_20220328T141741_NDWI_10m\",\n",
    "               winame=\"ndwi_mf\")\n",
    "\n",
    "# add semantic label\n",
    "gs.run_command(\"r.support\", map=\"T20JLL_20220328T141741_NDWI_10m\", semantic_label=\"S2_NDWI\")"
   ]
  },
  {
   "cell_type": "code",
   "execution_count": null,
   "metadata": {},
   "outputs": [],
   "source": [
    "s2_maps = gs.list_grouped(type=\"raster\", pattern=\"*2022*\")['sentinel2']\n",
    "s2_maps"
   ]
  },
  {
   "cell_type": "code",
   "execution_count": null,
   "metadata": {},
   "outputs": [],
   "source": [
    "gs.run_command(\"i.group\", group=\"s2_2022\", subgroup=\"s2_2022\", input=s2_maps)\n",
    "gs.parse_command(\"i.group\", group=\"s2_2022\", flags=\"l\")"
   ]
  },
  {
   "cell_type": "code",
   "execution_count": null,
   "metadata": {},
   "outputs": [],
   "source": [
    "gs.run_command(\"i.maxlik\", group=\"s2_2022\", subgroup=\"s2_2022\", \n",
    "               signaturefile=\"sig_sentinel\", output=\"sentinel_maxlik_2022\")"
   ]
  },
  {
   "cell_type": "code",
   "execution_count": null,
   "metadata": {},
   "outputs": [],
   "source": [
    "label_class = [\"1:vegetation\", \"2:urban\", \"3:bare soil\"]\n",
    "categorise = gs.feed_command(\"r.category\", map=\"sentinel_maxlik_2022\", separator=\":\", rules=\"-\", quiet=True)\n",
    "categorise.stdin.write(\"\\n\".join(label_class).encode())\n",
    "categorise.stdin.close()"
   ]
  },
  {
   "cell_type": "code",
   "execution_count": null,
   "metadata": {},
   "outputs": [],
   "source": [
    "# display results\n",
    "cba_sup_class_2022 = gj.Map(width=500, use_region=True)\n",
    "cba_sup_class_2022.d_rast(map=\"sentinel_maxlik_2022\")\n",
    "cba_sup_class_2022.d_legend(raster=\"sentinel_maxlik_2022\", title=\"Class\", \n",
    "                            fontsize=10, at=(80, 93, 80, 90), flags=\"b\")\n",
    "cba_sup_class_2022.d_barscale()\n",
    "cba_sup_class_2022.show()"
   ]
  },
  {
   "cell_type": "code",
   "execution_count": null,
   "metadata": {},
   "outputs": [],
   "source": [
    "session.finish()"
   ]
  },
  {
   "cell_type": "markdown",
   "metadata": {},
   "source": [
    "### References\n",
    "\n",
    "- [GRASS GIS 8.2.0 Reference Manual](https://grass.osgeo.org/grass-stable/manuals/)\n",
    "- [GRASS GIS Python library documentation](https://grass.osgeo.org/grass-stable/manuals/libpython/)\n",
    "- https://github.com/ncsu-geoforall-lab/grass-gis-workshop-FOSS4G-2021\n",
    "- https://github.com/wenzeslaus/python-grass-addon\n",
    "- https://grass.osgeo.org/learn/tutorials/\n",
    "- https://github.com/wenzeslaus/geospatial-modeling-course-jupyter"
   ]
  },
  {
   "cell_type": "code",
   "execution_count": null,
   "metadata": {},
   "outputs": [],
   "source": []
  }
 ],
 "metadata": {
  "kernelspec": {
   "display_name": "Python 3",
   "language": "python",
   "name": "python3"
  },
  "language_info": {
   "codemirror_mode": {
    "name": "ipython",
    "version": 3
   },
   "file_extension": ".py",
   "mimetype": "text/x-python",
   "name": "python",
   "nbconvert_exporter": "python",
   "pygments_lexer": "ipython3",
   "version": "3.10.4"
  }
 },
 "nbformat": 4,
 "nbformat_minor": 4
}
